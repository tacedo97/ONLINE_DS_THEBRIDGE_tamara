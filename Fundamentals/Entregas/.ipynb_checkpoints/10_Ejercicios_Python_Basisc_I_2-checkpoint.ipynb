{
 "cells": [
  {
   "cell_type": "markdown",
   "metadata": {
    "id": "GB2K42EgK9q5"
   },
   "source": [
    "<center><img src=\"https://www.aicareers.es/wp-content/uploads/2023/09/TheBridge_logo_RGB_color-1024x484.png\" width='400' height='300'/></center>"
   ]
  },
  {
   "cell_type": "markdown",
   "metadata": {
    "id": "GnwVlO37K9q6"
   },
   "source": [
    "![imagen](./img/ejercicios.png)"
   ]
  },
  {
   "cell_type": "markdown",
   "metadata": {
    "id": "_9pTa0PXK9q6"
   },
   "source": [
    "## EJERCICIOS PYTHON BASICO 2:\n",
    "## Tipos y conversión de tipos"
   ]
  },
  {
   "cell_type": "markdown",
   "metadata": {
    "id": "tYmV-veoK9q6"
   },
   "source": [
    "Completa los siguiente ejercicios, la solución a los mismos se publicarán en el repo del curso a lo largo del sprint"
   ]
  },
  {
   "cell_type": "markdown",
   "metadata": {
    "id": "YAdFbIOXK9q7"
   },
   "source": [
    "![ejercicio.png](./img/ejercicio.png)\n",
    "\n",
    "## Ejercicio 1\n",
    "\n",
    "1. Crea dos variables numericas: un `int` y un `float`\n",
    "2. Comprueba sus tipos\n",
    "3. Sumalas en otra nueva\n",
    "4. ¿De qué tipo es la nueva variable?\n",
    "5. Elimina las dos primeras variables creadas"
   ]
  },
  {
   "cell_type": "code",
   "execution_count": 1,
   "metadata": {
    "id": "8QZmuLOsK9q7"
   },
   "outputs": [
    {
     "name": "stdout",
     "output_type": "stream",
     "text": [
      "Las variables creadas han sido 2 y 2.7 las cuales son, respectivamente, de tipo  <class 'int'> y <class 'float'> \n",
      "\n",
      "Sumando ambas variables obtenemos el resultado 4.7 , el cual es de tipo <class 'float'>\n"
     ]
    }
   ],
   "source": [
    "var_int = 2\n",
    "var_float = 2.7\n",
    "print(\"Las variables creadas han sido\", var_int, \"y\", var_float, \"las cuales son, respectivamente, de tipo \", type(var_int), \"y\", type(var_float), \"\\n\")\n",
    "var_sum = var_int + var_float\n",
    "print(\"Sumando ambas variables obtenemos el resultado\", var_sum, \", el cual es de tipo\", type(var_sum))"
   ]
  },
  {
   "cell_type": "code",
   "execution_count": 2,
   "metadata": {},
   "outputs": [],
   "source": [
    "del var_int, var_float #Borramos las dos variables inicialmente definidas"
   ]
  },
  {
   "cell_type": "code",
   "execution_count": 3,
   "metadata": {},
   "outputs": [
    {
     "ename": "NameError",
     "evalue": "name 'var_int' is not defined",
     "output_type": "error",
     "traceback": [
      "\u001b[1;31m---------------------------------------------------------------------------\u001b[0m",
      "\u001b[1;31mNameError\u001b[0m                                 Traceback (most recent call last)",
      "Cell \u001b[1;32mIn[3], line 2\u001b[0m\n\u001b[0;32m      1\u001b[0m \u001b[38;5;66;03m#Al haberlas borrado, no podemos imprimirlas por pantalla puesto que ya no existen\u001b[39;00m\n\u001b[1;32m----> 2\u001b[0m \u001b[38;5;28mprint\u001b[39m(\u001b[43mvar_int\u001b[49m)\n",
      "\u001b[1;31mNameError\u001b[0m: name 'var_int' is not defined"
     ]
    }
   ],
   "source": [
    "#Al haberlas borrado, no podemos imprimirlas por pantalla puesto que ya no existen\n",
    "print(var_int)"
   ]
  },
  {
   "cell_type": "code",
   "execution_count": 4,
   "metadata": {},
   "outputs": [
    {
     "ename": "NameError",
     "evalue": "name 'var_float' is not defined",
     "output_type": "error",
     "traceback": [
      "\u001b[1;31m---------------------------------------------------------------------------\u001b[0m",
      "\u001b[1;31mNameError\u001b[0m                                 Traceback (most recent call last)",
      "Cell \u001b[1;32mIn[4], line 1\u001b[0m\n\u001b[1;32m----> 1\u001b[0m \u001b[38;5;28mprint\u001b[39m(\u001b[43mvar_float\u001b[49m)\n",
      "\u001b[1;31mNameError\u001b[0m: name 'var_float' is not defined"
     ]
    }
   ],
   "source": [
    "print(var_float)"
   ]
  },
  {
   "cell_type": "code",
   "execution_count": 5,
   "metadata": {},
   "outputs": [
    {
     "data": {
      "text/plain": [
       "4.7"
      ]
     },
     "execution_count": 5,
     "metadata": {},
     "output_type": "execute_result"
    }
   ],
   "source": [
    "\"\"\"\n",
    "No obstante, la variable definida a partir de la suma de ambas se mantiene y se puede imprimir por pantalla\n",
    "puesto que ésta se ha guardado antes de eliminar las definidas al principio\n",
    "\"\"\"\n",
    "var_sum"
   ]
  },
  {
   "cell_type": "markdown",
   "metadata": {
    "id": "f5xfpkpQK9q7"
   },
   "source": [
    "![ejercicio.png](./img/ejercicio.png)\n",
    "\n",
    "## Ejercicio 2\n",
    "Escribe un programa para pasar de grados a radianes. Hay que usar `input`. Recuerda que la conversión se realiza mediante\n",
    "\n",
    "radianes = grados*(pi/180)"
   ]
  },
  {
   "cell_type": "code",
   "execution_count": 6,
   "metadata": {
    "id": "V50TUQMzK9q7",
    "scrolled": true
   },
   "outputs": [
    {
     "name": "stdin",
     "output_type": "stream",
     "text": [
      "Indica los grados que van a convertirse a radianes (puede ser un nº entero o un decimal con las partes entera y decimal separadas por un punto): 180.0\n"
     ]
    },
    {
     "name": "stdout",
     "output_type": "stream",
     "text": [
      "180.0 grados son 3.141592653589793 radianes\n"
     ]
    }
   ],
   "source": [
    "import math\n",
    "deg = input(\"Indica los grados que van a convertirse a radianes (puede ser un nº entero o un decimal con las partes entera y decimal separadas por un punto):\")\n",
    "#Damos por sentado que el usuario introduce un input correcto (valor numérico de tipo int o float)\n",
    "rad = (float(deg)*math.pi)/180\n",
    "print(deg, \"grados son\", rad, \"radianes\")"
   ]
  },
  {
   "cell_type": "markdown",
   "metadata": {
    "id": "zX3-p58CK9q7"
   },
   "source": [
    "![ejercicio.png](./img/ejercicio.png)\n",
    "\n",
    "## Ejercicio 3\n",
    "Escribe un programa que calcule el area de un paralelogramo (base x altura). También con `input`"
   ]
  },
  {
   "cell_type": "code",
   "execution_count": 7,
   "metadata": {
    "id": "s2QfNiBAK9q7"
   },
   "outputs": [
    {
     "name": "stdout",
     "output_type": "stream",
     "text": [
      "En el siguiente programa vamos a calcular el área de un paralelogramo a partir de la base y la altura que se indiquen a continuación.\n"
     ]
    },
    {
     "name": "stdin",
     "output_type": "stream",
     "text": [
      "Base: 10.2\n",
      "Altura: 1.4\n"
     ]
    },
    {
     "name": "stdout",
     "output_type": "stream",
     "text": [
      "El área del paralelogramo de base 10.2 y de altura 1.4 es 14.279999999999998\n"
     ]
    }
   ],
   "source": [
    "print(\"En el siguiente programa vamos a calcular el área de un paralelogramo a partir de la base y la altura que se indiquen a continuación.\")\n",
    "#Damos por sentado que el usuario introduce inputs correctos (valores numéricos positivos de tipo int o float)\n",
    "base = input(\"Base:\")\n",
    "height = input(\"Altura:\")\n",
    "area = float(base)*float(height)\n",
    "print(\"El área del paralelogramo de base\", base, \"y de altura\", height, \"es\", area)"
   ]
  },
  {
   "cell_type": "markdown",
   "metadata": {
    "id": "-6TBo_HvK9q8"
   },
   "source": [
    "![ejercicio.png](./img/ejercicio.png)\n",
    "\n",
    "## Ejercicio 4\n",
    "Escribe un programa que calcule el area de un paralelogramo (base x altura). También con `input`. En este caso debe ser capaz de admitir valores reales, con decimales, para base y altura en español. (PISTA: Recuerda que tendrás que hacer uso del método replace)"
   ]
  },
  {
   "cell_type": "code",
   "execution_count": 8,
   "metadata": {
    "id": "uzUIa1JqK9q8"
   },
   "outputs": [
    {
     "name": "stdout",
     "output_type": "stream",
     "text": [
      "En el siguiente programa vamos a calcular el área de un paralelogramo a partir de la base y la altura que se indiquen a continuación.\n"
     ]
    },
    {
     "name": "stdin",
     "output_type": "stream",
     "text": [
      "Base: 10,2\n",
      "Altura: 1.4\n"
     ]
    },
    {
     "name": "stdout",
     "output_type": "stream",
     "text": [
      "El área del paralelogramo de base 10.2 y de altura 1.4 es 14.279999999999998\n"
     ]
    }
   ],
   "source": [
    "print(\"En el siguiente programa vamos a calcular el área de un paralelogramo a partir de la base y la altura que se indiquen a continuación.\")\n",
    "'''\n",
    "Damos por sentado que el usuario introduce números positivos (tanto reales como enteros), si bien los números enteros pueden venir en\n",
    "formato español (parte entera y decimal separada por una coma y no por un punto)\n",
    "'''\n",
    "base = float(input(\"Base:\").replace(\",\", \".\"))\n",
    "height = float(input(\"Altura:\").replace(\",\", \".\"))\n",
    "area = base*height\n",
    "print(\"El área del paralelogramo de base\", base, \"y de altura\", height, \"es\", area)"
   ]
  },
  {
   "cell_type": "markdown",
   "metadata": {
    "id": "5zKugi5iK9q8"
   },
   "source": [
    "![ejercicio.png](./img/ejercicio.png)\n",
    "\n",
    "## Ejercicio 5\n",
    "Complete el siguiente código para solicitar al usuario su nombre y su edad. Luego, calcule en qué año nació el usuario y muestre el resultado."
   ]
  },
  {
   "cell_type": "code",
   "execution_count": 9,
   "metadata": {
    "id": "LISfTnRkK9q8"
   },
   "outputs": [
    {
     "name": "stdin",
     "output_type": "stream",
     "text": [
      "¿Cuál es tu nombre?  Tamara\n",
      "¿Cuál es tu edad?  27\n"
     ]
    },
    {
     "name": "stdout",
     "output_type": "stream",
     "text": [
      "Tamara, naciste en el año 1997.\n"
     ]
    }
   ],
   "source": [
    "nombre = input(\"¿Cuál es tu nombre? \")\n",
    "edad = int(input(\"¿Cuál es tu edad? \")) #Damos por sentado que el usuario introduce un número entero positivo\n",
    "año_actual = 2024 \n",
    "año_nacimiento = año_actual - edad\n",
    "print(f\"{nombre}, naciste en el año {año_nacimiento}.\")"
   ]
  }
 ],
 "metadata": {
  "colab": {
   "provenance": []
  },
  "kernelspec": {
   "display_name": "Python 3 (ipykernel)",
   "language": "python",
   "name": "python3"
  },
  "language_info": {
   "codemirror_mode": {
    "name": "ipython",
    "version": 3
   },
   "file_extension": ".py",
   "mimetype": "text/x-python",
   "name": "python",
   "nbconvert_exporter": "python",
   "pygments_lexer": "ipython3",
   "version": "3.12.0"
  }
 },
 "nbformat": 4,
 "nbformat_minor": 4
}
