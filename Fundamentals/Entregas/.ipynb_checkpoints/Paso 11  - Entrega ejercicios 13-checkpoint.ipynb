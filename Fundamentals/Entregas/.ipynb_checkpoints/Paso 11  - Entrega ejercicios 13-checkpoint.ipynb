{
 "cells": [
  {
   "cell_type": "markdown",
   "metadata": {
    "id": "9l3HMgm6RWxF"
   },
   "source": [
    "<center><img src=\"https://www.aicareers.es/wp-content/uploads/2023/09/TheBridge_logo_RGB_color-1024x484.png\" width='400' height='300'/></center>"
   ]
  },
  {
   "cell_type": "markdown",
   "metadata": {
    "id": "RGg9iWpoRWxG"
   },
   "source": [
    "![ejercicios.png](attachment:ejercicios.png)"
   ]
  },
  {
   "cell_type": "markdown",
   "metadata": {
    "id": "AyOlWS2nRWxH"
   },
   "source": [
    "## PRACTICA OBLIGATORIA: COLECCIONES Y FUNCIONES"
   ]
  },
  {
   "cell_type": "markdown",
   "metadata": {
    "id": "6UOgb0KVRWxH"
   },
   "source": [
    "* La práctica obligatoria de esta unidad consiste varios ejercicios de programación libre a completar sobre Colecciones y Funciones. Descarga este notebook en tu ordenador y trabaja en local.  \n",
    "* Recuerda que debes subirla a tu repositorio personal antes de la sesión en vivo para que puntúe adecuadamente y puedas participar en dicha sesión.  \n",
    "* Recuerda también que no es necesario que esté perfecta, sólo es necesario que se vea el esfuerzo.\n",
    "* Esta práctica se resolverá en la sesión en vivo correspondiente y la solución se publicará en el repo del curso."
   ]
  },
  {
   "cell_type": "markdown",
   "metadata": {
    "id": "j3yu-tEjRWxH"
   },
   "source": [
    "### Contenidos"
   ]
  },
  {
   "cell_type": "markdown",
   "metadata": {
    "id": "kO-fLH39RWxH"
   },
   "source": [
    "## Ejercicio 1\n",
    "Eleva todos los elementos de la lista al cuadrado\n",
    "> ```ejer_2 = [1,2,3,4,5]```"
   ]
  },
  {
   "cell_type": "code",
   "execution_count": 1,
   "metadata": {},
   "outputs": [
    {
     "name": "stdout",
     "output_type": "stream",
     "text": [
      "[1, 4, 9, 16, 25]\n"
     ]
    }
   ],
   "source": [
    "ejer_2 = [1,2,3,4,5]\n",
    "ejer_2_sol = []\n",
    "for i in ejer_2:\n",
    "    j = i**2\n",
    "    ejer_2_sol.append(j)\n",
    "print(ejer_2_sol)"
   ]
  },
  {
   "cell_type": "markdown",
   "metadata": {
    "id": "kI_Xr5oFRWxI"
   },
   "source": [
    "## Ejercicio 2\n",
    "Haz un programa que detecte todos los duplicados de un elemento en una lista:\n",
    "* Utiliza una variable duplicado para asignarle el valor del elemento del que queremos encontrar todos sus duplicados.\n",
    "* El programa debe devolver todos los índices de los elementos duplicados.\n",
    "* Aplícalo para encontrar los duplicados de \"un\", \"es\" y \"binario\" de:  \n",
    "\n",
    ">```ejer_3 = [\"Un\", \"árbol\", \"binario\", \"es\", \"una\", \"estructura\", \"de\", \"un\", \"tipo\", \"particular\", \"a\", \"veces\", \"no\", \"es\", \"ni\", \"binario\"]```\n"
   ]
  },
  {
   "cell_type": "code",
   "execution_count": 2,
   "metadata": {},
   "outputs": [
    {
     "name": "stdout",
     "output_type": "stream",
     "text": [
      "Tenemos la lista ['Un', 'árbol', 'binario', 'es', 'una', 'estructura', 'de', 'un', 'tipo', 'particular', 'a', 'veces', 'no', 'es', 'ni', 'binario'] \n",
      "\n"
     ]
    },
    {
     "name": "stdin",
     "output_type": "stream",
     "text": [
      "Por favor, introduce un elemento para ver si está en dicha lista: un\n"
     ]
    },
    {
     "name": "stdout",
     "output_type": "stream",
     "text": [
      "\n",
      "El valor está en las posiciones: [0, 7]\n"
     ]
    }
   ],
   "source": [
    "ejer_3 = [\"Un\", \"árbol\", \"binario\", \"es\", \"una\", \"estructura\", \"de\", \"un\", \"tipo\", \"particular\", \"a\", \"veces\", \"no\", \"es\", \"ni\", \"binario\"]\n",
    "print(\"Tenemos la lista\", ejer_3, \"\\n\")\n",
    "var_dupl = input(\"Por favor, introduce un elemento para ver si está en dicha lista:\")\n",
    "dupls = []\n",
    "for i in range(0, len(ejer_3)):\n",
    "    if ejer_3[i].upper() == var_dupl.upper():\n",
    "        dupls.append(i)\n",
    "if len(dupls) == 0:\n",
    "    print(\"\\nEl valor\", var_dupl, \"no está en dicha lista\")\n",
    "else:\n",
    "    print(\"\\nEl valor está en las posiciones:\", dupls)"
   ]
  },
  {
   "cell_type": "code",
   "execution_count": 3,
   "metadata": {},
   "outputs": [
    {
     "name": "stdin",
     "output_type": "stream",
     "text": [
      "Por favor, introduce un elemento para ver si está en dicha lista: es\n"
     ]
    },
    {
     "name": "stdout",
     "output_type": "stream",
     "text": [
      "\n",
      "El valor está en las posiciones: [3, 13]\n"
     ]
    }
   ],
   "source": [
    "var_dupl = input(\"Por favor, introduce un elemento para ver si está en dicha lista:\")\n",
    "dupls = []\n",
    "for i in range(0, len(ejer_3)):\n",
    "    if ejer_3[i].upper() == var_dupl.upper():\n",
    "        dupls.append(i)\n",
    "if len(dupls) == 0:\n",
    "    print(\"\\nEl valor\", var_dupl, \"no está en dicha lista\")\n",
    "else:\n",
    "    print(\"\\nEl valor está en las posiciones:\", dupls)"
   ]
  },
  {
   "cell_type": "code",
   "execution_count": 4,
   "metadata": {},
   "outputs": [
    {
     "name": "stdin",
     "output_type": "stream",
     "text": [
      "Por favor, introduce un elemento para ver si está en dicha lista: binario\n"
     ]
    },
    {
     "name": "stdout",
     "output_type": "stream",
     "text": [
      "\n",
      "El valor está en las posiciones: [2, 15]\n"
     ]
    }
   ],
   "source": [
    "var_dupl = input(\"Por favor, introduce un elemento para ver si está en dicha lista:\")\n",
    "dupls = []\n",
    "for i in range(0, len(ejer_3)):\n",
    "    if ejer_3[i].upper() == var_dupl.upper():\n",
    "        dupls.append(i)\n",
    "if len(dupls) == 0:\n",
    "    print(\"\\nEl valor\", var_dupl, \"no está en dicha lista\")\n",
    "else:\n",
    "    print(\"\\nEl valor está en las posiciones:\", dupls)"
   ]
  },
  {
   "cell_type": "code",
   "execution_count": 5,
   "metadata": {},
   "outputs": [
    {
     "name": "stdout",
     "output_type": "stream",
     "text": [
      "[0, 7]\n",
      "[3, 13]\n",
      "[2, 15]\n"
     ]
    }
   ],
   "source": [
    "'''\n",
    "Aquí creamos una función que contempla más casos puesto que pueden meterse como argumentos posicionales\n",
    "tanto el valor a buscar ('dupl') como la lista en la que buscarlo ('dupl_list')\n",
    "'''\n",
    "def find_duplicates_two_args(dupl_list, dupl):\n",
    "    dupl_index = []\n",
    "    dupl = dupl.upper()\n",
    "    for i in range(0, len(dupl_list)):\n",
    "        j = dupl_list[i].upper()\n",
    "        if j == dupl:\n",
    "            dupl_index.append(i)\n",
    "    return dupl_index\n",
    "\n",
    "print(find_duplicates_two_args(ejer_3, \"un\"))\n",
    "print(find_duplicates_two_args(ejer_3, \"es\"))\n",
    "print(find_duplicates_two_args(ejer_3, \"binario\"))"
   ]
  },
  {
   "cell_type": "markdown",
   "metadata": {
    "id": "3WrBd5QaRWxI"
   },
   "source": [
    "## Ejercicio 3\n",
    "1. ¿Cuántas veces se repite el 3 en la siguiente tupla?\n",
    "2. Crea una tupla nueva con los elementos desde la posicion 5 a la 10.\n",
    "3. ¿Cuántos elementos tiene la tupla `ejer_3`?\n",
    "> ```ejer_9 = (3, 20, 3, 47, 19, 3, 29, 45, 67, 78, 90, 3, 3, 5, 2, 4, 7, 9, 4, 2, 4, 3, 3, 4, 6, 7)```"
   ]
  },
  {
   "cell_type": "code",
   "execution_count": 6,
   "metadata": {
    "id": "bkv_R5LYRWxI"
   },
   "outputs": [
    {
     "name": "stdout",
     "output_type": "stream",
     "text": [
      "Para la tupla (3, 20, 3, 47, 19, 3, 29, 45, 67, 78, 90, 3, 3, 5, 2, 4, 7, 9, 4, 2, 4, 3, 3, 4, 6, 7) tenemos lo siguiente:\n",
      "\n",
      "1. El número 3 se repite 7 veces.\n",
      "2. Construimos una nueva tupla con los elementos desde el 5º hasta el 10º de la tupla anterior, que sería: (3, 29, 45, 67, 78, 90)\n",
      "3. La tupla inicial tiene 26 elementos.\n"
     ]
    }
   ],
   "source": [
    "ejer_9 = (3, 20, 3, 47, 19, 3, 29, 45, 67, 78, 90, 3, 3, 5, 2, 4, 7, 9, 4, 2, 4, 3, 3, 4, 6, 7)\n",
    "print(\"Para la tupla\", ejer_9, \"tenemos lo siguiente:\\n\")\n",
    "print(\"1. El número 3 se repite\", ejer_9.count(3), \"veces.\")\n",
    "ejer_9_split = ejer_9[5:11]\n",
    "print(\"2. Construimos una nueva tupla con los elementos desde el 5º hasta el 10º de la tupla anterior, que sería:\", ejer_9_split)\n",
    "print(\"3. La tupla inicial tiene\", len(ejer_9) , \"elementos.\")"
   ]
  },
  {
   "cell_type": "markdown",
   "metadata": {
    "id": "6g8Y54AeRWxI"
   },
   "source": [
    "## Ejercicio 4\n",
    "Comprueba si el numero 60 esta en la tupla del ejercicio 3"
   ]
  },
  {
   "cell_type": "code",
   "execution_count": 7,
   "metadata": {
    "id": "F8VTEZonRWxI"
   },
   "outputs": [
    {
     "name": "stdout",
     "output_type": "stream",
     "text": [
      "El número 60 no está en la tupla del anterior ejercicio.\n"
     ]
    }
   ],
   "source": [
    "if ejer_9.count(60) == 0:\n",
    "    print(\"El número 60 no está en la tupla del anterior ejercicio.\")\n",
    "else:\n",
    "    print(\"El número 60 está en la tupla del anterior ejercicio\", ejer_9.count(60) , \"veces.\")"
   ]
  },
  {
   "cell_type": "markdown",
   "metadata": {
    "id": "y0fg-ZA6RWxI"
   },
   "source": [
    "## Ejercicio 5\n",
    "1. Convierte la tupla del ejercicio 3 en una lista\n",
    "2. Convierte la tupla del ejercicio 3 en un set\n",
    "3. Convierte la tupla del ejercicio 3 en un diccionario. Usa también los indices"
   ]
  },
  {
   "cell_type": "code",
   "execution_count": 8,
   "metadata": {
    "id": "_O5hXr01RWxI"
   },
   "outputs": [
    {
     "name": "stdout",
     "output_type": "stream",
     "text": [
      "El elemento (3, 20, 3, 47, 19, 3, 29, 45, 67, 78, 90, 3, 3, 5, 2, 4, 7, 9, 4, 2, 4, 3, 3, 4, 6, 7) es <class 'tuple'> \n",
      "\n",
      "1. La correspondiente lista sería la siguiente:\n",
      "\t [3, 20, 3, 47, 19, 3, 29, 45, 67, 78, 90, 3, 3, 5, 2, 4, 7, 9, 4, 2, 4, 3, 3, 4, 6, 7] \n",
      "\n",
      "2. El correspondiente set sería el siguiente:\n",
      "\t {2, 3, 67, 5, 4, 7, 6, 9, 45, 78, 47, 19, 20, 90, 29} \n",
      "\n",
      "3. El correspondiente diccionario sería el siguiente:\n",
      "\t {0: 3, 1: 20, 2: 3, 3: 47, 4: 19, 5: 3, 6: 29, 7: 45, 8: 67, 9: 78, 10: 90, 11: 3, 12: 3, 13: 5, 14: 2, 15: 4, 16: 7, 17: 9, 18: 4, 19: 2, 20: 4, 21: 3, 22: 3, 23: 4, 24: 6, 25: 7}\n"
     ]
    }
   ],
   "source": [
    "print(\"El elemento\", ejer_9, \"es\", type(ejer_9), \"\\n\")\n",
    "\n",
    "print(\"1. La correspondiente lista sería la siguiente:\\n\\t\", list(ejer_9),\"\\n\")\n",
    "\n",
    "print(\"2. El correspondiente set sería el siguiente:\\n\\t\", set(ejer_9), \"\\n\")\n",
    "\n",
    "ejer_9_dicc ={ }\n",
    "for i in range(len(ejer_9)):\n",
    "    ejer_9_dicc[i] = ejer_9[i]\n",
    "print(\"3. El correspondiente diccionario sería el siguiente:\\n\\t\", ejer_9_dicc)"
   ]
  },
  {
   "cell_type": "markdown",
   "metadata": {
    "id": "eOdWWbxvRWxJ"
   },
   "source": [
    "## Ejercicio 6\n",
    "Multiplica todos los valores del diccionario\n",
    "> ```ejer_6 = {1: 11, 2: 22, 3: 33, 4: 44, 5: 55}```"
   ]
  },
  {
   "cell_type": "code",
   "execution_count": 9,
   "metadata": {
    "id": "KcuByovKRWxJ"
   },
   "outputs": [
    {
     "name": "stdout",
     "output_type": "stream",
     "text": [
      "19326120\n"
     ]
    }
   ],
   "source": [
    "ejer_6 = {1: 11, 2: 22, 3: 33, 4: 44, 5: 55}\n",
    "product = 1\n",
    "for value in ejer_6.values():\n",
    "    product = product*value\n",
    "print(product)"
   ]
  },
  {
   "cell_type": "markdown",
   "metadata": {
    "id": "W7TUSaKRRWxJ"
   },
   "source": [
    "## Ejercicio 7\n",
    "\n",
    "1. Crea un diccionario que describa un libro, con los siguientes campos o claves: \"titulo\",\"autor\",\"idioma original\",\"año de publicación\".\n",
    "2. Crea un a lista, llamada librería.\n",
    "3. Añade cuatro libros a tu elección a la librería."
   ]
  },
  {
   "cell_type": "code",
   "execution_count": 10,
   "metadata": {
    "id": "d-IMRvxRRWxJ",
    "scrolled": true,
    "vscode": {
     "languageId": "plaintext"
    }
   },
   "outputs": [
    {
     "name": "stdout",
     "output_type": "stream",
     "text": [
      "1. Diccionario que describe un libro:\n",
      "\t {'titulo': 'La novia gitana', 'autor': 'Carmen Mola', 'idioma original': 'Español', 'año de publicación': 2018} \n",
      "\n",
      "2. Lista llamada 'libreria':\n",
      "\t [] \n",
      "\n",
      "3. Añadimos 4 libros a la lista 'libreria' previamente creada:\n",
      "\t [{'titulo': 'La red púrpura', 'autor': 'Carmen Mola', 'idioma original': 'Español', 'año de publicación': 2019}, {'titulo': 'Reina Roja', 'autor': 'Juan Gómez-Jurado', 'idioma original': 'Español', 'año de publicación': 2018}, {'titulo': 'La sombra del viento', 'autor': 'Carlos Ruiz Zafón', 'idioma original': 'Español', 'año de publicación': 2001}, {'titulo': 'I will find you', 'autor': 'Harlan Coben', 'idioma original': 'Inglés', 'año de publicación': 2023}]\n"
     ]
    }
   ],
   "source": [
    "book = {\"titulo\":\"La novia gitana\", \"autor\":\"Carmen Mola\", \"idioma original\":\"Español\", \"año de publicación\":2018}\n",
    "print(\"1. Diccionario que describe un libro:\\n\\t\", book, \"\\n\")\n",
    "\n",
    "libreria = []\n",
    "print(\"2. Lista llamada 'libreria':\\n\\t\", libreria, \"\\n\")\n",
    "\n",
    "book_1 = {\"titulo\":\"La red púrpura\", \"autor\":\"Carmen Mola\", \"idioma original\":\"Español\", \"año de publicación\":2019}\n",
    "libreria.append(book_1)\n",
    "book_2 = {\"titulo\":\"Reina Roja\", \"autor\":\"Juan Gómez-Jurado\", \"idioma original\":\"Español\", \"año de publicación\":2018}\n",
    "libreria.append(book_2)\n",
    "book_3 = {\"titulo\":\"La sombra del viento\", \"autor\":\"Carlos Ruiz Zafón\", \"idioma original\":\"Español\", \"año de publicación\":2001}\n",
    "libreria.append(book_3)\n",
    "book_4 = {\"titulo\":\"I will find you\", \"autor\":\"Harlan Coben\", \"idioma original\":\"Inglés\", \"año de publicación\":2023}\n",
    "libreria.append(book_4)\n",
    "\n",
    "print(\"3. Añadimos 4 libros a la lista 'libreria' previamente creada:\\n\\t\", libreria)"
   ]
  },
  {
   "cell_type": "markdown",
   "metadata": {
    "id": "glMoedjYRWxJ"
   },
   "source": [
    "## Ejercicio 8\n",
    "Modifica los valores del idioma de todos los libros del ejercicio anterior para que sea \"esperanto\"\n"
   ]
  },
  {
   "cell_type": "code",
   "execution_count": 11,
   "metadata": {
    "id": "veNdC-uwRWxJ"
   },
   "outputs": [
    {
     "name": "stdout",
     "output_type": "stream",
     "text": [
      "Para el libro La red púrpura el idioma original es Español\n",
      "y ahora lo hemos cambiado por esperanto \n",
      "\n",
      "Para el libro Reina Roja el idioma original es Español\n",
      "y ahora lo hemos cambiado por esperanto \n",
      "\n",
      "Para el libro La sombra del viento el idioma original es Español\n",
      "y ahora lo hemos cambiado por esperanto \n",
      "\n",
      "Para el libro I will find you el idioma original es Inglés\n",
      "y ahora lo hemos cambiado por esperanto \n",
      "\n"
     ]
    }
   ],
   "source": [
    "for b in libreria: #Accedemos a cada uno de los libros (diccionarios)\n",
    "    print(\"Para el libro\", b[\"titulo\"], \"el idioma original es\", b[\"idioma original\"])\n",
    "    b[\"idioma original\"] = \"esperanto\" #En cada libro, accedemos a la clave correspondiente al idioma para modificarlo\n",
    "    print(\"y ahora lo hemos cambiado por\", b[\"idioma original\"], \"\\n\")"
   ]
  },
  {
   "cell_type": "markdown",
   "metadata": {
    "id": "DRCJG04KRWxJ"
   },
   "source": [
    "## Ejercicio 9\n",
    "1. Escribe un programa que dada una variable titulo busque los libros que hay en la librería con ese título. Si no se encuentra debe devolver el mensaje `Ese no lo tengo, ¿mola?`\n",
    "2. Pruena que el programa con uno de tus libros y con otro que no contenga tu librería."
   ]
  },
  {
   "cell_type": "code",
   "execution_count": 12,
   "metadata": {
    "id": "eWHdJi9BRWxJ"
   },
   "outputs": [
    {
     "name": "stdin",
     "output_type": "stream",
     "text": [
      "Por favor, indica el titulo de un libro para buscarlo en mi libreria:  La red púrpura\n"
     ]
    },
    {
     "name": "stdout",
     "output_type": "stream",
     "text": [
      "Yo también lo tengo\n"
     ]
    }
   ],
   "source": [
    "titulo = input(\"Por favor, indica el titulo de un libro para buscarlo en mi libreria: \").upper()\n",
    "titulos_libreria = []\n",
    "for b in libreria:\n",
    "    titulos_libreria.append(b[\"titulo\"].upper())\n",
    "if titulo in titulos_libreria:\n",
    "    print(\"Yo también lo tengo\")\n",
    "else:\n",
    "    print(\"Ese no lo tengo, ¿mola?\")"
   ]
  },
  {
   "cell_type": "code",
   "execution_count": 13,
   "metadata": {},
   "outputs": [
    {
     "name": "stdin",
     "output_type": "stream",
     "text": [
      "Por favor, indica el titulo de un libro para buscarlo en mi libreria:  El Silencio de la Ciudad Blanca\n"
     ]
    },
    {
     "name": "stdout",
     "output_type": "stream",
     "text": [
      "Ese no lo tengo, ¿mola?\n"
     ]
    }
   ],
   "source": [
    "titulo = input(\"Por favor, indica el titulo de un libro para buscarlo en mi libreria: \").upper()\n",
    "titulos_libreria = []\n",
    "for b in libreria:\n",
    "    titulos_libreria.append(b[\"titulo\"].upper())\n",
    "if titulo in titulos_libreria:\n",
    "    print(\"Yo también lo tengo\")\n",
    "else:\n",
    "    print(\"Ese no lo tengo, ¿mola?\")"
   ]
  },
  {
   "cell_type": "markdown",
   "metadata": {
    "id": "17YOpYuFRWxJ"
   },
   "source": [
    "## Ejercicio 10\n",
    "Convierte el programa del ejercicio 2 en una función al que se le pase el valor a buscar como un argumento posicional"
   ]
  },
  {
   "cell_type": "code",
   "execution_count": 14,
   "metadata": {
    "id": "xbj0LgvnRWxJ"
   },
   "outputs": [],
   "source": [
    "def find_duplicates(dupl):\n",
    "    dupl_index = []\n",
    "    dupl = dupl.upper()\n",
    "    for i in range(0, len(ejer_3)):\n",
    "        j = ejer_3[i].upper()\n",
    "        if j == dupl:\n",
    "            dupl_index.append(i)\n",
    "    return dupl_index"
   ]
  },
  {
   "cell_type": "code",
   "execution_count": 15,
   "metadata": {},
   "outputs": [
    {
     "name": "stdout",
     "output_type": "stream",
     "text": [
      "[0, 7]\n",
      "[3, 13]\n",
      "[2, 15]\n"
     ]
    }
   ],
   "source": [
    "print(find_duplicates(\"un\"))\n",
    "print(find_duplicates(\"es\"))\n",
    "print(find_duplicates(\"binario\"))"
   ]
  },
  {
   "cell_type": "markdown",
   "metadata": {
    "id": "xZ-sWJxPRWxJ"
   },
   "source": [
    "## Ejercicio 11\n",
    "Convierte el programa del ejercicio 9 en una función al que se le pasen como argumentos la librería, posicional, y el título, argumento keyword con valor \"ninguno\", por defecto."
   ]
  },
  {
   "cell_type": "code",
   "execution_count": 16,
   "metadata": {
    "id": "4-JrsMdNRWxK"
   },
   "outputs": [],
   "source": [
    "def check_title(books_set, title = \"ninguno\"):\n",
    "    if title == \"ninguno\":\n",
    "        return \"Por favor, introduce el título de un libro para buscarlo en la librería indicada\"\n",
    "    else:\n",
    "        title = title.upper()\n",
    "        titulos_libreria = []\n",
    "        for b in books_set:\n",
    "            titulos_libreria.append(b[\"titulo\"].upper())\n",
    "        if title in titulos_libreria:\n",
    "            return \"Yo también lo tengo\"\n",
    "        else:\n",
    "            return \"Ese no lo tengo, ¿mola?\""
   ]
  },
  {
   "cell_type": "code",
   "execution_count": 18,
   "metadata": {},
   "outputs": [
    {
     "name": "stdout",
     "output_type": "stream",
     "text": [
      "Por favor, introduce el título de un libro para buscarlo en la librería indicada\n",
      "Yo también lo tengo\n",
      "Ese no lo tengo, ¿mola?\n"
     ]
    }
   ],
   "source": [
    "print(check_title(libreria))\n",
    "print(check_title(libreria, \"La red púrpura\"))\n",
    "print(check_title(libreria, \"El silencio de la ciudad blanca\"))"
   ]
  },
  {
   "cell_type": "markdown",
   "metadata": {
    "id": "FtJir95QRWxK"
   },
   "source": [
    "## Ejercicio 12\n",
    "Solicitar al usuario que ingrese su dirección email. Imprimir un mensaje indicando si la dirección es válida o no, valiéndose de una función para decidirlo. Una dirección se considerará válida si contiene el símbolo \"@\"."
   ]
  },
  {
   "cell_type": "code",
   "execution_count": 19,
   "metadata": {
    "id": "sk852IZ8RWxK"
   },
   "outputs": [
    {
     "name": "stdout",
     "output_type": "stream",
     "text": [
      "Ejemplo de dirección correcta:\n"
     ]
    },
    {
     "name": "stdin",
     "output_type": "stream",
     "text": [
      "Por favor, introduzca su dirección email: tacedo97@gmail.com\n"
     ]
    },
    {
     "name": "stdout",
     "output_type": "stream",
     "text": [
      "La dirección email introducida es válida.\n",
      "\n",
      "Ejemplo de dirección incorrecta:\n"
     ]
    },
    {
     "name": "stdin",
     "output_type": "stream",
     "text": [
      "Por favor, introduzca su dirección email: tacedo97gmail.com\n"
     ]
    },
    {
     "data": {
      "text/plain": [
       "'La dirección email introducida no es válida, pues no contiene el símbolo \"@\". Por favor, revíselo'"
      ]
     },
     "execution_count": 19,
     "metadata": {},
     "output_type": "execute_result"
    }
   ],
   "source": [
    "def check_email(email):\n",
    "    if \"@\" in email:\n",
    "        return \"La dirección email introducida es válida.\"\n",
    "    else:\n",
    "        return 'La dirección email introducida no es válida, pues no contiene el símbolo \"@\". Por favor, revíselo'\n",
    "\n",
    "print(\"Ejemplo de dirección correcta:\")\n",
    "print(check_email(input(\"Por favor, introduzca su dirección email:\")))\n",
    "print(\"\\nEjemplo de dirección incorrecta:\")\n",
    "check_email(input(\"Por favor, introduzca su dirección email:\"))"
   ]
  },
  {
   "cell_type": "markdown",
   "metadata": {
    "id": "Kw1MWBwBRWxK"
   },
   "source": [
    "## Ejercicio 13\n",
    "Escribe una función que compruebe si un DNI es válido, devolviendo `True` en caso afirmativo.  \n",
    "En primer lugar, el DNI debe tener entre 7 y 8 dígitos numéricos.  \n",
    "Para saber si la letra del DNI es correcta puedes utilizar el siguiente fragmento de código:\n",
    ">```Python\n",
    ">DNI= 55555555\n",
    ">palabra='TRWAGMYFPDXBNJZSQVHLCKE'\n",
    ">print('La letra del DNI es: ', palabra[DNI%23])\n",
    ">````\n"
   ]
  },
  {
   "cell_type": "code",
   "execution_count": 20,
   "metadata": {},
   "outputs": [],
   "source": [
    "def check_dni(dni):\n",
    "    dni_letter = dni[len(dni)-1]\n",
    "    dni_number = dni[0:len(dni)-1]\n",
    "    if len(dni) not in [8,9] or not(dni_number.isnumeric()) or not(dni_letter.isalpha()):\n",
    "        return False\n",
    "    else:\n",
    "        palabra='TRWAGMYFPDXBNJZSQVHLCKE'\n",
    "        if dni_letter.upper() == palabra[int(dni_number)%23]:\n",
    "            return True\n",
    "        else:\n",
    "            return False"
   ]
  },
  {
   "cell_type": "code",
   "execution_count": 21,
   "metadata": {},
   "outputs": [
    {
     "name": "stdout",
     "output_type": "stream",
     "text": [
      "True\n",
      "False\n"
     ]
    }
   ],
   "source": [
    "print(check_dni(\"12345678Z\")) #DNI correcto\n",
    "print(check_dni(\"0123R\")) #DNI incorrecto"
   ]
  }
 ],
 "metadata": {
  "colab": {
   "provenance": []
  },
  "kernelspec": {
   "display_name": "Python 3 (ipykernel)",
   "language": "python",
   "name": "python3"
  },
  "language_info": {
   "codemirror_mode": {
    "name": "ipython",
    "version": 3
   },
   "file_extension": ".py",
   "mimetype": "text/x-python",
   "name": "python",
   "nbconvert_exporter": "python",
   "pygments_lexer": "ipython3",
   "version": "3.12.0"
  }
 },
 "nbformat": 4,
 "nbformat_minor": 4
}
