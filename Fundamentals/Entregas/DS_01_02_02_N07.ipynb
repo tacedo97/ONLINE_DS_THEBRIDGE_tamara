{
 "cells": [
  {
   "cell_type": "markdown",
   "metadata": {
    "id": "vigJnuAMSU4x"
   },
   "source": [
    "<center><img src=\"https://www.aicareers.es/wp-content/uploads/2023/09/TheBridge_logo_RGB_color-1024x484.png\" width='400' height='300'/></center>"
   ]
  },
  {
   "cell_type": "markdown",
   "metadata": {
    "id": "liorA-1ZSU4y"
   },
   "source": [
    "# Ejercicios Clases y Objetos"
   ]
  },
  {
   "cell_type": "markdown",
   "metadata": {
    "id": "5xXUz5l9SU4z"
   },
   "source": [
    "## Ejercicio 1\n",
    "Somos una empresa que tiene varias tiendas de electrodomesticos. Necesitamos un programa para manejar las tiendas, ver las ventas que han tenido, cuántos empleados hay, etc... Para ello vamos a modelizar la tienda en una clase, que tendrá las siguientes características:\n",
    "* Nombre clase: \"Tienda\"\n",
    "* Atributos comunes:\n",
    "    * Tipo: \"Electrodomésticos\"\n",
    "    * Abierta: True\n",
    "* Atributos propios de cada tienda:\n",
    "    * Nombre - String\n",
    "    * Dirección - String\n",
    "    * Número de empleados - int\n",
    "    * Ventas ultimos 3 meses - Lista de 3 numeros\n",
    "* Método para calcular las ventas de todos los meses, que devuelva un numero con todas las ventas.\n",
    "* Método que calcula la media de ventas de los ultimos meses, por empleado\n",
    "* Método que devuelve en un string el nombre de la tienda, junto con su dirección.\n",
    "* Método que obtiene las ventas del último mes.\n",
    "* Método para dar una proyección de las ventas en caso de haber invertido X dinero en marketing en esa tienda. Siendo X el parámetro de entrada. Si X es menor de 1000, las ventas de los ultimos 3 meses hubiesen sido de (1.2 x ventas), si es mayor o igual de 1000, las ventas hubiesen sido de (1.5 x venta). El método reescribe el atributo de ventas en los últimos 3 meses, y además devuelve las ventas con el aumento.\n",
    "\n",
    "Se pide:\n",
    "1. Implementar la clase \"Tienda\"\n",
    "2. Crear tres tiendas con datos inventados\n",
    "3. Comprueba en al menos una de ellas, todo lo implementado en la clase tienda (sus atributos, media de ventas, ventas/empleado...)\n",
    "3. Calcular las ventas del último mes de todas las tiendas. Para ello usa el bucle `for`\n",
    "4. Imprime por pantalla los nombres de las tiendas cuya dirección lleve el string \"Avenida\"\n",
    "5. Seguro que ya has hecho este apartado... Documenta la clase :)"
   ]
  },
  {
   "cell_type": "code",
   "execution_count": 1,
   "metadata": {
    "id": "5cLQcLxfSU4z"
   },
   "outputs": [],
   "source": [
    "class Tienda:\n",
    "    #Definición de la clase 'Tienda', la cual consta de 6 atributos (2 comunes y 4 propios) y de 5 métodos\n",
    "        \n",
    "    def __init__(self, nombre_tienda, direccion_tienda, empleados_tienda, ventas_tienda, tipo_tienda = \"Electrodomésticos\", tienda_abierta = True):\n",
    "        self.nombre = nombre_tienda #Atributo propio de tipo string que recoge el nombre de la tienda\n",
    "        self.direccion = direccion_tienda #Atributo propio de tipo string que recoge la dirección de la tienda\n",
    "        self.empleados = empleados_tienda #Atributo propio de tipo int que recoge el número de empleados de la tienda\n",
    "        self.ventas = ventas_tienda #Atributo propio de tipo lista con 3 enteros positivos que representan las ventas de los 3 últimos meses\n",
    "        self.tipo = tipo_tienda #Atributo de tipo string que recoge el tipo de tienda que es. Por defecto, será \"Electrodomésticos\"\n",
    "        self.abierta = tienda_abierta #Atributo de tipo booleano que recoge si la tienda está abierta. Por defecto, será True\n",
    "    \n",
    "    def ventas_totales(self):\n",
    "        #Método de la clase 'Tienda' que devuelve la suma de las ventas de los tres últimos meses\n",
    "        return sum(self.ventas)\n",
    "\n",
    "    def media_ventas(self):\n",
    "        #Método de la clase 'Tienda' que devuelve la media de ventas de los tres últimos meses por empleado\n",
    "        return self.ventas_totales()/self.empleados\n",
    "\n",
    "    def print_tienda(self):\n",
    "        #Método de la clase 'Tienda' que devuelve en un string el nombre y la dirección\n",
    "        return \"El nombre de la tienda es \" + self.nombre + \" y su dirección es \" + self.direccion\n",
    "\n",
    "    def ventas_ultimo_mes(self):\n",
    "        #Método de la clase 'Tienda' que devuelve las ventas del último mes\n",
    "        return self.ventas[-1]\n",
    "\n",
    "    def proyeccion_ventas(self, x):\n",
    "        '''\n",
    "        Método de la clase 'Tienda' que devuelve la proyección de las ventas tras una inversión \"x\":\n",
    "        Input:\n",
    "        x --> Número real\n",
    "\n",
    "        Output:\n",
    "        La lista de ventas inicial de la tienda multiplicada por 1.2 ó 1.5 dependiendo de si el input \n",
    "        x es menor que 1000 o de si es mayor o igual que 1000 respectivamente\n",
    "        '''\n",
    "        if x < 1000:\n",
    "            self.ventas = [i*1.2 for i in self.ventas]\n",
    "        else:\n",
    "            self.ventas = [i*1.5 for i in self.ventas]\n",
    "        return self.ventas"
   ]
  },
  {
   "cell_type": "code",
   "execution_count": 2,
   "metadata": {},
   "outputs": [],
   "source": [
    "#Creación de tres tiendas junto con sus atributos y métodos\n",
    "tienda_1 = Tienda(\"Media Markt\", \"CC Parquesur\", 300, [1000, 500, 8000])\n",
    "tienda_2 = Tienda(\"Tien21\", \"Avenida de la Albufera\", 8, [100, 50, 130])\n",
    "tienda_3 = Tienda(\"MILAR\", \"Avenida de San Luis\", 27, [5400, 800, 4890])"
   ]
  },
  {
   "cell_type": "code",
   "execution_count": 3,
   "metadata": {
    "scrolled": true
   },
   "outputs": [
    {
     "name": "stdout",
     "output_type": "stream",
     "text": [
      "Atributos de la 'tienda_1':\n",
      "\tNombre: Media Markt\n",
      "\tDirección: CC Parquesur\n",
      "\tEmpleados: 300\n",
      "\tVentas: [1000, 500, 8000]\n",
      "\tTipo de tienda: Electrodomésticos\n",
      "\tTienda abierta: True \n",
      "\n",
      "Métodos de la 'tienda_1':\n",
      "\tVentas totales: 9500\n",
      "\tDatos Tienda El nombre de la tienda es Media Markt y su dirección es CC Parquesur\n",
      "\tVentas del último mes: 8000\n",
      "\tMedia de las ventas por empleado: 31.666666666666668\n",
      "\tProyección de las ventas invirtiendo 800 euros: [1200.0, 600.0, 9600.0]\n",
      "\tLas ventas se han reescrito por la operación anterior, teniendo ahora: [1200.0, 600.0, 9600.0]\n",
      "\tProyección de las ventas invirtiendo 3000 euros: [1800.0, 900.0, 14400.0]\n",
      "\tLas ventas se han reescrito por la operación anterior, teniendo ahora: [1800.0, 900.0, 14400.0]\n"
     ]
    }
   ],
   "source": [
    "#Impresión por pantalla de los atributos y métodos de una de las tiendas previamente instanciadas\n",
    "print(\"Atributos de la 'tienda_1':\")\n",
    "print(\"\\tNombre:\", tienda_1.nombre)\n",
    "print(\"\\tDirección:\", tienda_1.direccion)\n",
    "print(\"\\tEmpleados:\", tienda_1.empleados)\n",
    "print(\"\\tVentas:\", tienda_1.ventas)\n",
    "print(\"\\tTipo de tienda:\", tienda_1.tipo)\n",
    "print(\"\\tTienda abierta:\", tienda_1.abierta, \"\\n\")\n",
    "\n",
    "print(\"Métodos de la 'tienda_1':\")\n",
    "print(\"\\tVentas totales:\", tienda_1.ventas_totales())\n",
    "print(\"\\tDatos Tienda\", tienda_1.print_tienda())\n",
    "print(\"\\tVentas del último mes:\", tienda_1.ventas_ultimo_mes())\n",
    "print(\"\\tMedia de las ventas por empleado:\", tienda_1.media_ventas())\n",
    "inv1 = 800\n",
    "inv2 = 3000\n",
    "print(\"\\tProyección de las ventas invirtiendo\", inv1, \"euros:\" , tienda_1.proyeccion_ventas(inv1))\n",
    "print(\"\\tLas ventas se han reescrito por la operación anterior, teniendo ahora:\", tienda_1.ventas)\n",
    "print(\"\\tProyección de las ventas invirtiendo\", inv2, \"euros:\" , tienda_1.proyeccion_ventas(inv2))\n",
    "print(\"\\tLas ventas se han reescrito por la operación anterior, teniendo ahora:\", tienda_1.ventas)"
   ]
  },
  {
   "cell_type": "code",
   "execution_count": 4,
   "metadata": {},
   "outputs": [
    {
     "name": "stdout",
     "output_type": "stream",
     "text": [
      "Las ventas del último mes de Media Markt son: 14400.0 \n",
      "\n",
      "Las ventas del último mes de Tien21 son: 130 \n",
      "\n",
      "Las ventas del último mes de MILAR son: 4890 \n",
      "\n"
     ]
    }
   ],
   "source": [
    "#Ventas del último mes de todas las tiendas\n",
    "tiendas_ejercicio = [tienda_1, tienda_2, tienda_3]\n",
    "for t in tiendas_ejercicio:\n",
    "    print(\"Las ventas del último mes de\", t.nombre, \"son:\", t.ventas_ultimo_mes(), \"\\n\")"
   ]
  },
  {
   "cell_type": "code",
   "execution_count": 5,
   "metadata": {},
   "outputs": [
    {
     "name": "stdout",
     "output_type": "stream",
     "text": [
      "El nombre de la tienda es Tien21 y su dirección es Avenida de la Albufera\n",
      "El nombre de la tienda es MILAR y su dirección es Avenida de San Luis\n"
     ]
    }
   ],
   "source": [
    "#Nombres de las tiendas cuya dirección lleve el string \"Avenida\"\n",
    "for t in tiendas_ejercicio:\n",
    "    if \"Avenida\" in t.direccion:\n",
    "        print(t.print_tienda())"
   ]
  },
  {
   "cell_type": "markdown",
   "metadata": {
    "id": "WEBq7EpsSU40"
   },
   "source": [
    "## Ejercicio 2\n",
    "En este ejercicio vamos a implementar una clase *Perro* en Python. La clase tiene las siguientes características:\n",
    "* Cosas que sabemos seguro que tiene un perro\n",
    "    * Tiene 4 patas\n",
    "    * 2 orejas\n",
    "    * 2 ojos\n",
    "    * Una velocidad de 0. Por defecto, el perro está parado\n",
    "* Cuando se inicialice:\n",
    "    * El perro será de una determinada raza\n",
    "    * Por defecto tendrá pelo \"Marrón\", a no ser que se diga lo contrario.\n",
    "    * Por defecto no tendrá dueño, a no ser que se diga lo contrario.\n",
    "    \n",
    "* Dispondrá también de un método llamado andar, que tiene un argumento de entrada (aumento_velocidad). Este valor se le sumará a la velocidad que ya llevaba el perro.\n",
    "* Necesita otro método (parar), donde pondremos la velocidad a 0.\n",
    "* Otro método llamado \"ladrar\", que tendrá un argumento de entrada, y la salida será el siguiente string: \"GUAU!\" + el argumento de entrada.\n",
    "\n",
    "\n",
    "Se pide:\n",
    "* Implementa la clase *Perro*\n",
    "* Crea un objeto de tipo *Perro*, sin dueño\n",
    "* Comprueba que están bien todos sus atributos\n",
    "* Prueba que ande, y comprueba su velocidad\n",
    "* Páralo\n",
    "* Documenta la clase *Perro*"
   ]
  },
  {
   "cell_type": "code",
   "execution_count": 6,
   "metadata": {
    "id": "DpEWvbwGSU40"
   },
   "outputs": [],
   "source": [
    "class Perro:\n",
    "    #Definición de la clase 'Perro', la cual consta de 7 atributos y de 3 métodos\n",
    "\n",
    "    def __init__(self, raza_perro, patas_perro = 4, orejas_perro = 2, ojos_perro = 2, velocidad_perro = 0, pelo_perro = 'Marrón', amo_perro = False):\n",
    "        self.raza = raza_perro #Atributo de tipo string que recoge la raza del perro\n",
    "        self.patas = patas_perro #Atributo de tipo int que recoge el nº de patas del perro. Por defecto es 4\n",
    "        self.orejas = orejas_perro #Atributo de tipo int que recoge el nº de orejas del perro. Por defecto es 2\n",
    "        self.ojos = ojos_perro #Atributo de tipo int que recoge el nº de ojos del perro. Por defecto es 2\n",
    "        self.velocidad = velocidad_perro #Atributo de tipo int que recoge la velocidad del perro. Por defecto el perro está inicialmente parado (velocidad=0)\n",
    "        self.pelo = pelo_perro #Atributo de tipo string que recoge el color del pelo del perro. Por defecto es \"Marrón\"\n",
    "        self.amo = amo_perro #Atributo de tipo booleano que indica si el perro tiene dueño. Por defecto es False\n",
    "\n",
    "\n",
    "    def andar(self, aumento_velocidad):\n",
    "        '''\n",
    "        Método de la clase 'Perro' que devuelve la modificación de la velocidad del perro:\n",
    "        Input:\n",
    "        aumento_velocidad --> Número real positivo\n",
    "\n",
    "        Output:\n",
    "        Velocidad del perro previa + aumento_velocidad\n",
    "        '''\n",
    "        self.velocidad = self.velocidad + aumento_velocidad\n",
    "        return self.velocidad\n",
    "\n",
    "    def parar(self):\n",
    "        #Metodo de la clase 'Perro' que actualiza la velocidad del mismo a 0\n",
    "        self.velocidad = 0\n",
    "        return self.velocidad\n",
    "\n",
    "    def ladrar(self, ladrido):\n",
    "        '''\n",
    "        Método de la clase 'Perro' que devuelve la un string con el ladrido del perro:\n",
    "        Input:\n",
    "        ladrido --> Cualquier valor\n",
    "\n",
    "        Output:\n",
    "        Obtenemos un string formado por \"GUAU!\" seguido del input \"ladrido\" introducido\n",
    "        '''\n",
    "        return \"GUAU! \" + str(ladrido)"
   ]
  },
  {
   "cell_type": "code",
   "execution_count": 7,
   "metadata": {},
   "outputs": [
    {
     "name": "stdout",
     "output_type": "stream",
     "text": [
      "Raza: Border collie\n",
      "Nº de patas: 4\n",
      "Nº de orejas: 2\n",
      "Nº de ojos: 2\n",
      "Velocidad: 0\n",
      "¿Tiene dueño?: False\n"
     ]
    }
   ],
   "source": [
    "#Instanciamos un perro sin dueño e imprimimos por pantalla sus atributos\n",
    "perro1 = Perro(raza_perro='Border collie')\n",
    "print(\"Raza:\", perro1.raza)\n",
    "print(\"Nº de patas:\", perro1.patas)\n",
    "print(\"Nº de orejas:\", perro1.orejas)\n",
    "print(\"Nº de ojos:\", perro1.ojos)\n",
    "print(\"Velocidad:\", perro1.velocidad)\n",
    "print(\"¿Tiene dueño?:\", perro1.amo)"
   ]
  },
  {
   "cell_type": "code",
   "execution_count": 8,
   "metadata": {},
   "outputs": [
    {
     "name": "stdout",
     "output_type": "stream",
     "text": [
      "Velocidad inicial: 0\n",
      "Velocidad modificada: 15\n"
     ]
    }
   ],
   "source": [
    "#Comprobamos que el perro anda y que su velocidad se modifica\n",
    "print(\"Velocidad inicial:\", perro1.velocidad)\n",
    "perro1.andar(15)\n",
    "print(\"Velocidad modificada:\", perro1.velocidad)"
   ]
  },
  {
   "cell_type": "code",
   "execution_count": 9,
   "metadata": {},
   "outputs": [
    {
     "name": "stdout",
     "output_type": "stream",
     "text": [
      "La velocidad del perro tras haberlo parado es 0\n"
     ]
    }
   ],
   "source": [
    "perro1.parar() #Paramos al perro\n",
    "print(\"La velocidad del perro tras haberlo parado es\", perro1.velocidad)"
   ]
  },
  {
   "cell_type": "code",
   "execution_count": 10,
   "metadata": {},
   "outputs": [
    {
     "data": {
      "text/plain": [
       "'GUAU! Quiero un dueño!'"
      ]
     },
     "execution_count": 10,
     "metadata": {},
     "output_type": "execute_result"
    }
   ],
   "source": [
    "perro1.ladrar(\"Quiero un dueño!\") #Hacemos que el perro ladre"
   ]
  }
 ],
 "metadata": {
  "colab": {
   "provenance": []
  },
  "kernelspec": {
   "display_name": "Python 3 (ipykernel)",
   "language": "python",
   "name": "python3"
  },
  "language_info": {
   "codemirror_mode": {
    "name": "ipython",
    "version": 3
   },
   "file_extension": ".py",
   "mimetype": "text/x-python",
   "name": "python",
   "nbconvert_exporter": "python",
   "pygments_lexer": "ipython3",
   "version": "3.12.0"
  }
 },
 "nbformat": 4,
 "nbformat_minor": 4
}
